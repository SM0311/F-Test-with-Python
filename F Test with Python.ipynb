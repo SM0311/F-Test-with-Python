{
 "cells": [
  {
   "cell_type": "markdown",
   "id": "2fa9f907-129f-44b4-9c3b-fb3ca2ce4e0c",
   "metadata": {},
   "source": [
    "#### F Test With Python"
   ]
  },
  {
   "cell_type": "code",
   "execution_count": 2,
   "id": "0b68d696-05dc-40c8-adef-627128908e92",
   "metadata": {},
   "outputs": [],
   "source": [
    "## Evidence to say that the two population variences are not equal.\n",
    "## Check we come to conclusion whether one worker is better than other\n",
    "\n",
    "\n",
    "worker1 = [18,19,22,25,27,28,41,45,51,55]\n",
    "worker2 = [14,15,15,17,18,22,25,25,27,34]"
   ]
  },
  {
   "cell_type": "code",
   "execution_count": 3,
   "id": "0853f5b7-b92e-4d78-a272-ad204b8e7e32",
   "metadata": {},
   "outputs": [],
   "source": [
    "## Calculate the F test statistics\n",
    "\n",
    "import numpy as np\n",
    "f_test = np.var(worker1)/np.var(worker2)"
   ]
  },
  {
   "cell_type": "code",
   "execution_count": 4,
   "id": "b265d36a-3e4f-4416-9cd4-3b006fe513d5",
   "metadata": {},
   "outputs": [
    {
     "data": {
      "text/plain": [
       "4.387122002085506"
      ]
     },
     "execution_count": 4,
     "metadata": {},
     "output_type": "execute_result"
    }
   ],
   "source": [
    "f_test"
   ]
  },
  {
   "cell_type": "code",
   "execution_count": 7,
   "id": "64447995-30e8-441f-a280-7813a1fb3812",
   "metadata": {},
   "outputs": [],
   "source": [
    "## Degree of freedom \n",
    "\n",
    "df1 = len(worker1)-1\n",
    "df2 = len(worker2)-1\n",
    "signiificance_value = 0.05"
   ]
  },
  {
   "cell_type": "code",
   "execution_count": 8,
   "id": "63137ff5-f7f4-4dd4-bfd3-4f9af9a4df37",
   "metadata": {},
   "outputs": [],
   "source": [
    "import scipy.stats as stat"
   ]
  },
  {
   "cell_type": "code",
   "execution_count": 12,
   "id": "cec40a67-e7bd-4f1a-b16b-eb06f2c8677d",
   "metadata": {},
   "outputs": [
    {
     "data": {
      "text/plain": [
       "3.178893104458269"
      ]
     },
     "execution_count": 12,
     "metadata": {},
     "output_type": "execute_result"
    }
   ],
   "source": [
    "stat.f.ppf(q=1-signiificance_value, dfn=df1, dfd = df2)"
   ]
  },
  {
   "cell_type": "code",
   "execution_count": 13,
   "id": "66a6f0c9-e165-420e-8a45-f7f1c74f28e5",
   "metadata": {},
   "outputs": [],
   "source": [
    "critical_value = stat.f.ppf(q=1-signiificance_value, dfn=df1, dfd = df2)"
   ]
  },
  {
   "cell_type": "code",
   "execution_count": 14,
   "id": "2d2ce03f-1e84-4523-a091-b8e0ae547fc6",
   "metadata": {},
   "outputs": [
    {
     "data": {
      "text/plain": [
       "3.178893104458269"
      ]
     },
     "execution_count": 14,
     "metadata": {},
     "output_type": "execute_result"
    }
   ],
   "source": [
    "critical_value"
   ]
  },
  {
   "cell_type": "code",
   "execution_count": 15,
   "id": "2df2282d-594b-4114-9d2c-1153f8fe3cec",
   "metadata": {},
   "outputs": [
    {
     "name": "stdout",
     "output_type": "stream",
     "text": [
      "Reject the null hypothesis\n"
     ]
    }
   ],
   "source": [
    "if f_test > critical_value:\n",
    "    print(\"Reject the null hypothesis\")\n",
    "else:\n",
    "    print(\"We fail to reject the null hypothesis\")"
   ]
  },
  {
   "cell_type": "code",
   "execution_count": null,
   "id": "f443d9d2-2be9-4695-8f7d-e9ccc8264969",
   "metadata": {},
   "outputs": [],
   "source": []
  }
 ],
 "metadata": {
  "kernelspec": {
   "display_name": "Python 3 (ipykernel)",
   "language": "python",
   "name": "python3"
  },
  "language_info": {
   "codemirror_mode": {
    "name": "ipython",
    "version": 3
   },
   "file_extension": ".py",
   "mimetype": "text/x-python",
   "name": "python",
   "nbconvert_exporter": "python",
   "pygments_lexer": "ipython3",
   "version": "3.10.8"
  }
 },
 "nbformat": 4,
 "nbformat_minor": 5
}
